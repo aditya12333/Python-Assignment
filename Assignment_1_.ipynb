{
 "cells": [
  {
   "cell_type": "code",
   "execution_count": null,
   "metadata": {
    "colab": {
     "base_uri": "https://localhost:8080/"
    },
    "id": "8g5mCbuFCMjm",
    "outputId": "46a7a3a4-46c1-4a7b-cdd8-0b2dc8ee81a1"
   },
   "outputs": [
    {
     "name": "stdout",
     "output_type": "stream",
     "text": [
      "4\n",
      "8\n",
      "12\n",
      "16\n",
      "20\n",
      "24\n",
      "28\n",
      "32\n",
      "36\n",
      "40\n",
      "None\n"
     ]
    }
   ],
   "source": [
    "# 1. Function That inputs a number and print the multiplication of that number\n",
    "def multiplicationNum(num):\n",
    "  for i in range(1,11):\n",
    "    a = num*i\n",
    "    i += 1\n",
    "    print(a)\n",
    "print(multiplicationNum(4))"
   ]
  },
  {
   "cell_type": "code",
   "execution_count": 9,
   "metadata": {
    "colab": {
     "base_uri": "https://localhost:8080/"
    },
    "id": "zHp3yARuDKKj",
    "outputId": "e90891dc-afac-45e5-a402-513464cd717a"
   },
   "outputs": [
    {
     "name": "stdout",
     "output_type": "stream",
     "text": [
      "Twin Prime: \n",
      " 3 and 5 are twin prime\n",
      " 5 and 7 are twin prime\n",
      " 11 and 13 are twin prime\n",
      " 17 and 19 are twin prime\n",
      " 29 and 31 are twin prime\n",
      " 41 and 43 are twin prime\n",
      " 59 and 61 are twin prime\n",
      " 71 and 73 are twin prime\n",
      " 101 and 103 are twin prime\n",
      " 107 and 109 are twin prime\n",
      " 137 and 139 are twin prime\n",
      " 149 and 151 are twin prime\n",
      " 179 and 181 are twin prime\n",
      " 191 and 193 are twin prime\n",
      " 197 and 199 are twin prime\n",
      " 227 and 229 are twin prime\n",
      " 239 and 241 are twin prime\n",
      " 269 and 271 are twin prime\n",
      " 281 and 283 are twin prime\n",
      " 311 and 313 are twin prime\n",
      " 347 and 349 are twin prime\n",
      " 419 and 421 are twin prime\n",
      " 431 and 433 are twin prime\n",
      " 461 and 463 are twin prime\n",
      " 521 and 523 are twin prime\n",
      " 569 and 571 are twin prime\n",
      " 599 and 601 are twin prime\n",
      " 617 and 619 are twin prime\n",
      " 641 and 643 are twin prime\n",
      " 659 and 661 are twin prime\n",
      " 809 and 811 are twin prime\n",
      " 821 and 823 are twin prime\n",
      " 827 and 829 are twin prime\n",
      " 857 and 859 are twin prime\n",
      " 881 and 883 are twin prime\n"
     ]
    }
   ],
   "source": [
    "#2. Program to print a twin prime < 1000\n",
    "# reference: https://www.codespeedy.com/write-a-python-program-to-print-all-twin-primes-less-than-n/\n",
    "def isPrime(a):\n",
    "    for i in range (2, a):\n",
    "        if a % i == 0:\n",
    "            return False\n",
    "    return True\n",
    "# function for twin prime\n",
    "def twinPrime(a):\n",
    "    for first_num in range(2, a):\n",
    "        second_num = first_num + 2\n",
    "        if (isPrime(first_num) and isPrime(second_num)):\n",
    "            print(\" {0} and {1} are twin prime\".format(first_num, second_num))\n",
    "\n",
    "print(\"Twin Prime: \")\n",
    "twinPrime(1000)"
   ]
  },
  {
   "cell_type": "code",
   "execution_count": null,
   "metadata": {
    "colab": {
     "base_uri": "https://localhost:8080/"
    },
    "id": "fs8CfflAxChT",
    "outputId": "79185bcd-18b7-44c3-f6e4-f167c0a5d7c7"
   },
   "outputs": [
    {
     "name": "stdout",
     "output_type": "stream",
     "text": [
      "3\n",
      "3\n",
      "5\n",
      "7\n",
      "None\n"
     ]
    }
   ],
   "source": [
    "#3. Program to find prime factors of a number\n",
    "def primefact(n):\n",
    "  count = 0\n",
    "  for i in range(2, n):\n",
    "    while n % i == 0:\n",
    "      print(i)\n",
    "      n = n/i\n",
    "      count +=1\n",
    "    else:\n",
    "      i += 1\n",
    "print(primefact(315))"
   ]
  },
  {
   "cell_type": "code",
   "execution_count": null,
   "metadata": {
    "colab": {
     "base_uri": "https://localhost:8080/"
    },
    "id": "QpjjK44lOuRp",
    "outputId": "8e81a72d-280c-4f29-ec76-bf86fbd7c860"
   },
   "outputs": [
    {
     "name": "stdout",
     "output_type": "stream",
     "text": [
      "Permutation:  665280\n",
      "Combination:  924\n"
     ]
    }
   ],
   "source": [
    "#4. permutation and combination\n",
    "# reference: Kaggle\n",
    "import operator as op\n",
    "\n",
    "# find factorial of number\n",
    "def fact(n):\n",
    "    if n == 1:\n",
    "        return n\n",
    "    return n * fact(n-1)\n",
    "\n",
    "# Function to calculate permutation\n",
    "def permutation(n1, r):\n",
    "    return int(fact(n1) / fact(n1-r))\n",
    "\n",
    "# Function to return combination\n",
    "def combination(n1, r):\n",
    "    return int(fact(n1) / (fact(r) * fact(n1-r)))\n",
    "\n",
    "print(\"Permutation: \", permutation(12,6))\n",
    "print(\"Combination: \", combination(12,6))"
   ]
  },
  {
   "cell_type": "code",
   "execution_count": null,
   "metadata": {
    "colab": {
     "base_uri": "https://localhost:8080/"
    },
    "id": "ix6i3vhPz5hv",
    "outputId": "071789c2-be69-4431-a71f-bd7a49161a2c"
   },
   "outputs": [
    {
     "name": "stdout",
     "output_type": "stream",
     "text": [
      "101101"
     ]
    }
   ],
   "source": [
    "#5. Convert decimal to binary\n",
    "def decimaltoBin(n):\n",
    "  if n == 0:\n",
    "    return\n",
    "  else:\n",
    "    decimaltoBin(int(n/2))\n",
    "    print(n%2, end = \"\")\n",
    "decimaltoBin(45)           # calling function"
   ]
  },
  {
   "cell_type": "code",
   "execution_count": null,
   "metadata": {
    "colab": {
     "base_uri": "https://localhost:8080/"
    },
    "id": "4xSACfPesfpK",
    "outputId": "ac9147ce-25ea-4a3f-8245-e025f5708e32"
   },
   "outputs": [
    {
     "name": "stdout",
     "output_type": "stream",
     "text": [
      "sum of cube of the given number: 73\n",
      "Given number is Armstrong: False\n"
     ]
    }
   ],
   "source": [
    "#6. function to return sum of cube of individual digit\n",
    "def cubesum(num):\n",
    "  digit = [int(x) for x in str(num)]   # store each number in list\n",
    "  sum = 0\n",
    "  for i in digit:\n",
    "    sum = sum + i**3\n",
    "  return sum\n",
    "def isArmstrong(n):    # Function to check for armstrong number\n",
    "  if cubesum(n) == n:\n",
    "    return True\n",
    "  else:\n",
    "    return False\n",
    "print(\"sum of cube of the given number:\", cubesum(124))\n",
    "print(\"Given number is Armstrong:\", isArmstrong(143))"
   ]
  },
  {
   "cell_type": "code",
   "execution_count": null,
   "metadata": {
    "colab": {
     "base_uri": "https://localhost:8080/"
    },
    "id": "87vmyDvVv_hL",
    "outputId": "b8857e96-2d44-4d49-9f25-a13098aceac4"
   },
   "outputs": [
    {
     "name": "stdout",
     "output_type": "stream",
     "text": [
      "24\n"
     ]
    }
   ],
   "source": [
    "#7. Function to give product of digit of given numbers.\n",
    "# reference: geeksforgeeks\n",
    "def prodDigits(n):\n",
    "  prod = 1\n",
    "  while(n!=0):\n",
    "    prod = prod * (n%10)\n",
    "    n = n // 10\n",
    "  return prod\n",
    "\n",
    "print(prodDigits(234))  # calling function  "
   ]
  },
  {
   "cell_type": "code",
   "execution_count": null,
   "metadata": {
    "colab": {
     "base_uri": "https://localhost:8080/"
    },
    "id": "eGIEhgd1Amac",
    "outputId": "10600532-f559-45ff-9d15-5365075b1872"
   },
   "outputs": [
    {
     "name": "stdout",
     "output_type": "stream",
     "text": [
      "mdr is 2 and mper is 2\n"
     ]
    }
   ],
   "source": [
    "#8. Program to return MDR and MP\n",
    "def prodDigits(n):\n",
    "  prod = 1\n",
    "  while(n!=0):\n",
    "    prod = prod * (n%10)\n",
    "    n = n//10\n",
    "  return prod\n",
    "\n",
    "# Function to find MDR and pesistance\n",
    "def MDR(n):\n",
    "  persistance = 0\n",
    "  while len(str(n)) != 1:\n",
    "    n = prodDigits(n)\n",
    "    persistance += 1\n",
    "  return n, persistance\n",
    "mdr, mper = MDR(341)\n",
    "print(\"mdr is {} and mper is {}\".format(mdr, mper))"
   ]
  },
  {
   "cell_type": "code",
   "execution_count": null,
   "metadata": {
    "colab": {
     "base_uri": "https://localhost:8080/"
    },
    "id": "Sg5_uqOcqgtq",
    "outputId": "e8e1f2fb-4615-4e23-919c-0db089a12ed8"
   },
   "outputs": [
    {
     "name": "stdout",
     "output_type": "stream",
     "text": [
      "55\n"
     ]
    }
   ],
   "source": [
    "#9. Fuction to find proper divisor of a number\n",
    "def sumPdivisors(n):\n",
    "  div = []\n",
    "  sum = 0\n",
    "  for i in range(1, n):\n",
    "    if n % i == 0:\n",
    "      div.append(i)\n",
    "      sum = sum + i\n",
    "  return sum\n",
    "\n",
    "print(sumPdivisors(36))  # function call"
   ]
  },
  {
   "cell_type": "code",
   "execution_count": null,
   "metadata": {
    "colab": {
     "base_uri": "https://localhost:8080/"
    },
    "id": "xNpbbkMi1bha",
    "outputId": "b5a31ce9-0483-4066-e67c-1349401ab6c0"
   },
   "outputs": [
    {
     "name": "stdout",
     "output_type": "stream",
     "text": [
      "0\n",
      "6\n",
      "28\n",
      "None\n"
     ]
    }
   ],
   "source": [
    "#10 Program to print all perfect number\n",
    "def perfectNumber(n):\n",
    "  if n == sumPdivisors(n):\n",
    "    print(n)\n",
    "\n",
    "# Function to print all perfect number in some range\n",
    "def Allperfect_Num(l, m):\n",
    "  for i in range(l, m):\n",
    "    if perfectNumber(i):\n",
    "      print(i)\n",
    "print(Allperfect_Num(0, 100))      "
   ]
  },
  {
   "cell_type": "code",
   "execution_count": null,
   "metadata": {
    "colab": {
     "base_uri": "https://localhost:8080/"
    },
    "id": "YRfz_Bxp2P4M",
    "outputId": "86a9cdf4-549b-4a9c-a50a-9743dd76ad00"
   },
   "outputs": [
    {
     "name": "stdout",
     "output_type": "stream",
     "text": [
      "220 284\n"
     ]
    }
   ],
   "source": [
    "#11. Function to print amicable number\n",
    "def sumPdivisors(n): # function to find sum of proper divisors\n",
    "  div = []\n",
    "  sum = 0\n",
    "  for i in range(1, n):\n",
    "    if n % i == 0:\n",
    "      div.append(i)\n",
    "      sum = sum + i\n",
    "  return sum\n",
    "\n",
    "# Function to check for amicable number\n",
    "def Amicabelno(n1, n2):\n",
    "  if n1 == sumPdivisors(n2) and n2 == sumPdivisors(n1):\n",
    "    return n1, n2\n",
    "\n",
    "# Function to print amicalble number in range\n",
    "# reference: Google\n",
    "def TotalamicableNo(l1, l2):\n",
    "  for num in range(l1, l2+1):\n",
    "        for num_ in range(num, l2+1):\n",
    "            if num != num_:\n",
    "                if Amicabelno(num, num_):\n",
    "                    print(num, num_)\n",
    "\n",
    "\n",
    "TotalamicableNo(1, 400)      "
   ]
  },
  {
   "cell_type": "code",
   "execution_count": null,
   "metadata": {
    "colab": {
     "base_uri": "https://localhost:8080/"
    },
    "id": "WwwdLB8hCqTy",
    "outputId": "5aced48a-6d10-4314-e9ec-79f8aa400641"
   },
   "outputs": [
    {
     "name": "stdout",
     "output_type": "stream",
     "text": [
      "[1, 3, 5, 7, 9]\n"
     ]
    }
   ],
   "source": [
    "#12 Program which can filter odd nuber\n",
    "def find_Odd_Number(n):\n",
    "  if n % 2 != 0:\n",
    "    return n\n",
    "    \n",
    "num_list = range(1,10)\n",
    "filter_odd_num = list(filter(find_Odd_Number, num_list))  # using filter function to filter odd num in a range.\n",
    "print(filter_odd_num)"
   ]
  },
  {
   "cell_type": "code",
   "execution_count": null,
   "metadata": {
    "colab": {
     "base_uri": "https://localhost:8080/"
    },
    "id": "oRkWIVnZLES3",
    "outputId": "c76778b9-a53e-427d-d3d6-03d86279663c"
   },
   "outputs": [
    {
     "name": "stdout",
     "output_type": "stream",
     "text": [
      "[1, 8, 27, 64]\n"
     ]
    }
   ],
   "source": [
    "#13 Program which can map() to make a list whose elements are cube of elements in given list\n",
    "n = [1,2,3,4]\n",
    "def find_Cube(n):\n",
    "  return n**3\n",
    "\n",
    "# Use map function\n",
    "cube = list(map(find_Cube, n))\n",
    "print(cube)"
   ]
  },
  {
   "cell_type": "code",
   "execution_count": null,
   "metadata": {
    "colab": {
     "base_uri": "https://localhost:8080/"
    },
    "id": "2z-cTsoxMa_k",
    "outputId": "93cf3b69-ed5b-48c0-e773-d33867829796"
   },
   "outputs": [
    {
     "name": "stdout",
     "output_type": "stream",
     "text": [
      "[8, 64, 216]\n"
     ]
    }
   ],
   "source": [
    "#14. Use map() and Filter() to make list whose elements are cube of even number\n",
    "n = [1,2,3,4,5,6]\n",
    "\n",
    "# map() and filter() function\n",
    "ev_no_cube = list(map(lambda x: x**3, filter(lambda x: x % 2 == 0, n)))\n",
    "print(ev_no_cube)"
   ]
  },
  {
   "cell_type": "code",
   "execution_count": null,
   "metadata": {
    "id": "fBVxmaaPNj0p"
   },
   "outputs": [],
   "source": []
  }
 ],
 "metadata": {
  "colab": {
   "collapsed_sections": [],
   "name": "Assignment 1",
   "provenance": []
  },
  "kernelspec": {
   "display_name": "Python 3",
   "language": "python",
   "name": "python3"
  },
  "language_info": {
   "codemirror_mode": {
    "name": "ipython",
    "version": 3
   },
   "file_extension": ".py",
   "mimetype": "text/x-python",
   "name": "python",
   "nbconvert_exporter": "python",
   "pygments_lexer": "ipython3",
   "version": "3.8.3"
  }
 },
 "nbformat": 4,
 "nbformat_minor": 1
}
